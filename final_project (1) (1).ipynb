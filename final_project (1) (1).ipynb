{
 "cells": [
  {
   "cell_type": "markdown",
   "metadata": {},
   "source": [
    "Meriselle Ruotolo\n",
    "Midterm Project"
   ]
  },
  {
   "cell_type": "code",
   "execution_count": 1,
   "metadata": {},
   "outputs": [],
   "source": [
    "import struct\n",
    "import gzip\n",
    "from pathlib import Path\n",
    "import numpy as np\n",
    "import pandas as pd\n",
    "import matplotlib.pyplot as plt\n",
    "%matplotlib inline\n",
    "import seaborn as sns\n",
    "from IPython.core.display import Image\n",
    "from sklearn.linear_model import LinearRegression\n",
    "from sklearn.svm import SVC, LinearSVC, SVR # possibly unnecessary\n",
    "from mpl_toolkits.mplot3d import Axes3D"
   ]
  },
  {
   "cell_type": "markdown",
   "metadata": {},
   "source": [
    "The first several cells below is simply set up and testing that the data has been properly imported and set up."
   ]
  },
  {
   "cell_type": "code",
   "execution_count": 2,
   "metadata": {},
   "outputs": [
    {
     "name": "stdout",
     "output_type": "stream",
     "text": [
      "2051 60000 28 28\n",
      "2051 10000 28 28\n",
      "(60000, 28, 28) (10000, 28, 28)\n"
     ]
    }
   ],
   "source": [
    "train = dict()\n",
    "test = dict()\n",
    "def get_images(filename):\n",
    "    with gzip.GzipFile(Path(filename), 'rb') as f:\n",
    "        magic, size, rows, cols = struct.unpack(\">IIII\", f.read(16))\n",
    "        print(magic, size, rows, cols)\n",
    "        images = np.frombuffer(f.read(), dtype=np.dtype('B'))\n",
    "        return images.reshape(size, rows, cols)\n",
    "train['image'] = get_images('train-images-idx3-ubyte.gz')\n",
    "test['image'] = get_images('t10k-images-idx3-ubyte.gz')\n",
    "print(train['image'].shape, test['image'].shape)"
   ]
  },
  {
   "cell_type": "code",
   "execution_count": 3,
   "metadata": {},
   "outputs": [
    {
     "data": {
      "image/png": "[encoded data removed]",
      "text/plain": [
       "<Figure size 432x288 with 1 Axes>"
      ]
     },
     "metadata": {
      "needs_background": "light"
     },
     "output_type": "display_data"
    }
   ],
   "source": [
    "fig, ax = plt.subplots()\n",
    "_ = ax.imshow(train['image'][1000], cmap = 'gray')"
   ]
  },
  {
   "cell_type": "code",
   "execution_count": 4,
   "metadata": {},
   "outputs": [
    {
     "name": "stdout",
     "output_type": "stream",
     "text": [
      "(60000,) (10000,)\n"
     ]
    }
   ],
   "source": [
    "def get_labels(filename):\n",
    "    with gzip.GzipFile(Path(filename), 'rb') as f:\n",
    "        magic, num = struct.unpack(\">II\", f.read(8))\n",
    "        labels = np.frombuffer(f.read(), dtype=np.dtype('B'))\n",
    "    return labels\n",
    "train['label'] = get_labels('train-labels-idx1-ubyte.gz')\n",
    "test['label'] = get_labels('t10k-labels-idx1-ubyte.gz')\n",
    "print(train['label'].shape, test['label'].shape)"
   ]
  },
  {
   "cell_type": "code",
   "execution_count": 5,
   "metadata": {},
   "outputs": [
    {
     "data": {
      "text/plain": [
       "array([0, 1, 2, 3, 4, 5, 6, 7, 8, 9], dtype=uint8)"
      ]
     },
     "execution_count": 5,
     "metadata": {},
     "output_type": "execute_result"
    }
   ],
   "source": [
    "# Checking to see if the labels are within the expected values\n",
    "np.unique(train['label'])"
   ]
  },
  {
   "cell_type": "markdown",
   "metadata": {},
   "source": [
    "**PART I**\n",
    "\n",
    "In part one, we will be taking a least-squares binary classifer and creating a classifer for each specific digit [0-9]. We will then test our classifier with the handwritten mnist digit set and count the number of correctly identified hand-written digits using our classifier. We will anaylze its accuracy. \n",
    "First, we must partition our data to x and y axis. We will be training our binary classifer with the \"training set.\" \n",
    "\n",
    "__We will set up the x and y axis for the training set:__"
   ]
  },
  {
   "cell_type": "code",
   "execution_count": 6,
   "metadata": {},
   "outputs": [],
   "source": [
    "def transform_images(x):\n",
    "    x0 = np.zeros((x.shape[0], np.product(x.shape[1:])))\n",
    "    \n",
    "    for i in range(x0.shape[0]):\n",
    "        x0[i] = x[i].flatten()\n",
    "            \n",
    "    return np.concatenate([x0, np.ones((x0.shape[0], 1))], axis=1)\n",
    "    \n",
    "def transform_labels(y, target):\n",
    "    y0 = np.zeros((y.shape[0], 1))\n",
    "    \n",
    "    for i in range(y0.shape[0]):\n",
    "        y0[i] = 1 if y[i] == target else -1\n",
    "    \n",
    "    return y0\n"
   ]
  },
  {
   "cell_type": "markdown",
   "metadata": {},
   "source": [
    "__PART I LEAST SQUARE FUNCTION__"
   ]
  },
  {
   "cell_type": "code",
   "execution_count": 7,
   "metadata": {},
   "outputs": [],
   "source": [
    "def mnist_least_squares(x, y, target, solver):\n",
    "    x = transform_images(x)\n",
    "    y = transform_labels(y, target)\n",
    "        \n",
    "    return solver(x, y)\n",
    "    \n",
    "def least_squares_solver():\n",
    "    return lambda x, y: np.matmul(np.linalg.pinv(np.matmul(x.transpose(), x)), np.matmul(x.transpose(), y))\n"
   ]
  },
  {
   "cell_type": "markdown",
   "metadata": {},
   "source": [
    "__PART II LEAST SQUARE WITH REGULARIZATION PARAMETER FUNCTION__"
   ]
  },
  {
   "cell_type": "code",
   "execution_count": 8,
   "metadata": {},
   "outputs": [],
   "source": [
    "def least_squares_with_regularization_solver(lam):\n",
    "    def solve(x, y):\n",
    "        xtx = np.matmul(x.transpose(), x)\n",
    "        \n",
    "        for i in range(x.shape[1]):\n",
    "            xtx[i, i] += lam\n",
    "            \n",
    "        return np.matmul(np.linalg.pinv(xtx), np.matmul(x.transpose(), y))\n",
    "    \n",
    "    return solve\n",
    "\n",
    "def classify(x, b):\n",
    "    x = transform_images(x)\n",
    "\n",
    "    return np.matmul(x, b)"
   ]
  },
  {
   "cell_type": "markdown",
   "metadata": {},
   "source": [
    "__LEAST SQUARE BINARY CLASSIFIER ON DIGITS 0-9__"
   ]
  },
  {
   "cell_type": "code",
   "execution_count": 9,
   "metadata": {},
   "outputs": [
    {
     "data": {
      "text/plain": [
       "98.43"
      ]
     },
     "execution_count": 9,
     "metadata": {},
     "output_type": "execute_result"
    }
   ],
   "source": [
    "# LEAST SQUARES DIGIT 0 \n",
    "b = mnist_least_squares(train['image'], train['label'], 0, least_squares_solver())\n",
    "\n",
    "y_predict = classify(test['image'], b)\n",
    "y_predict[y_predict > 0] = 1\n",
    "y_predict[y_predict < 0] = -1\n",
    "\n",
    "y_expect = transform_labels(test['label'], 0)\n",
    "np.sum((y_predict == y_expect))/100 # to output percent"
   ]
  },
  {
   "cell_type": "code",
   "execution_count": 10,
   "metadata": {},
   "outputs": [
    {
     "data": {
      "text/plain": [
       "<matplotlib.colorbar.Colorbar at 0x1af00029280>"
      ]
     },
     "execution_count": 10,
     "metadata": {},
     "output_type": "execute_result"
    },
    {
     "data": {
      "image/png": "[encoded data removed]",
      "text/plain": [
       "<Figure size 432x288 with 2 Axes>"
      ]
     },
     "metadata": {
      "needs_background": "light"
     },
     "output_type": "display_data"
    }
   ],
   "source": [
    "params = b[:784, 0].reshape(28, 28)\n",
    "\n",
    "from sklearn.preprocessing import StandardScaler\n",
    "params = StandardScaler().fit_transform(params)\n",
    "ax = plt.imshow(params)\n",
    "plt.colorbar(ax)"
   ]
  },
  {
   "cell_type": "code",
   "execution_count": 11,
   "metadata": {},
   "outputs": [
    {
     "data": {
      "text/plain": [
       "98.34"
      ]
     },
     "execution_count": 11,
     "metadata": {},
     "output_type": "execute_result"
    }
   ],
   "source": [
    "# LEAST SQUARES DIGIT 1\n",
    "b = mnist_least_squares(train['image'], train['label'], 1, least_squares_solver())\n",
    "\n",
    "y_predict = classify(test['image'], b)\n",
    "y_predict[y_predict > 0] = 1\n",
    "y_predict[y_predict < 0] = -1\n",
    "\n",
    "y_expect = transform_labels(test['label'], 1)\n",
    "np.sum((y_predict == y_expect))/100"
   ]
  },
  {
   "cell_type": "code",
   "execution_count": 12,
   "metadata": {},
   "outputs": [
    {
     "data": {
      "text/plain": [
       "<matplotlib.colorbar.Colorbar at 0x1af000d5b20>"
      ]
     },
     "execution_count": 12,
     "metadata": {},
     "output_type": "execute_result"
    },
    {
     "data": {
      "image/png": "[encoded data removed]",
      "text/plain": [
       "<Figure size 432x288 with 2 Axes>"
      ]
     },
     "metadata": {
      "needs_background": "light"
     },
     "output_type": "display_data"
    }
   ],
   "source": [
    "params = b[:784, 0].reshape(28, 28)\n",
    "\n",
    "from sklearn.preprocessing import StandardScaler\n",
    "params = StandardScaler().fit_transform(params)\n",
    "ax = plt.imshow(params)\n",
    "plt.colorbar(ax)"
   ]
  },
  {
   "cell_type": "code",
   "execution_count": 13,
   "metadata": {},
   "outputs": [
    {
     "data": {
      "text/plain": [
       "95.84"
      ]
     },
     "execution_count": 13,
     "metadata": {},
     "output_type": "execute_result"
    }
   ],
   "source": [
    "# LEAST SQUARES DIGIT 2\n",
    "b = mnist_least_squares(train['image'], train['label'], 2, least_squares_solver())\n",
    "\n",
    "y_predict = classify(test['image'], b)\n",
    "y_predict[y_predict > 0] = 1\n",
    "y_predict[y_predict < 0] = -1\n",
    "\n",
    "y_expect = transform_labels(test['label'], 2)\n",
    "np.sum((y_predict == y_expect))/100"
   ]
  },
  {
   "cell_type": "code",
   "execution_count": 14,
   "metadata": {},
   "outputs": [
    {
     "data": {
      "text/plain": [
       "<matplotlib.colorbar.Colorbar at 0x1af0016ba00>"
      ]
     },
     "execution_count": 14,
     "metadata": {},
     "output_type": "execute_result"
    },
    {
     "data": {
      "image/png": "[encoded data removed]",
      "text/plain": [
       "<Figure size 432x288 with 2 Axes>"
      ]
     },
     "metadata": {
      "needs_background": "light"
     },
     "output_type": "display_data"
    }
   ],
   "source": [
    "params = b[:784, 0].reshape(28, 28)\n",
    "\n",
    "from sklearn.preprocessing import StandardScaler\n",
    "params = StandardScaler().fit_transform(params)\n",
    "ax = plt.imshow(params)\n",
    "plt.colorbar(ax)"
   ]
  },
  {
   "cell_type": "code",
   "execution_count": 15,
   "metadata": {},
   "outputs": [
    {
     "data": {
      "text/plain": [
       "96.02"
      ]
     },
     "execution_count": 15,
     "metadata": {},
     "output_type": "execute_result"
    }
   ],
   "source": [
    "# LEAST SQUARES DIGIT 3\n",
    "b = mnist_least_squares(train['image'], train['label'], 3, least_squares_solver())\n",
    "\n",
    "y_predict = classify(test['image'], b)\n",
    "y_predict[y_predict > 0] = 1\n",
    "y_predict[y_predict < 0] = -1\n",
    "\n",
    "y_expect = transform_labels(test['label'], 3)\n",
    "np.sum((y_predict == y_expect))/100"
   ]
  },
  {
   "cell_type": "code",
   "execution_count": 16,
   "metadata": {},
   "outputs": [
    {
     "data": {
      "text/plain": [
       "<matplotlib.colorbar.Colorbar at 0x1af001fd8b0>"
      ]
     },
     "execution_count": 16,
     "metadata": {},
     "output_type": "execute_result"
    },
    {
     "data": {
      "image/png": "[encoded data removed]",
      "text/plain": [
       "<Figure size 432x288 with 2 Axes>"
      ]
     },
     "metadata": {
      "needs_background": "light"
     },
     "output_type": "display_data"
    }
   ],
   "source": [
    "params = b[:784, 0].reshape(28, 28)\n",
    "\n",
    "from sklearn.preprocessing import StandardScaler\n",
    "params = StandardScaler().fit_transform(params)\n",
    "ax = plt.imshow(params)\n",
    "plt.colorbar(ax)"
   ]
  },
  {
   "cell_type": "code",
   "execution_count": 17,
   "metadata": {},
   "outputs": [
    {
     "data": {
      "text/plain": [
       "96.65"
      ]
     },
     "execution_count": 17,
     "metadata": {},
     "output_type": "execute_result"
    }
   ],
   "source": [
    "# LEAST SQUARES DIGIT 4\n",
    "b = mnist_least_squares(train['image'], train['label'], 4, least_squares_solver())\n",
    "\n",
    "y_predict = classify(test['image'], b)\n",
    "y_predict[y_predict > 0] = 1\n",
    "y_predict[y_predict < 0] = -1\n",
    "\n",
    "y_expect = transform_labels(test['label'], 4)\n",
    "np.sum((y_predict == y_expect))/100"
   ]
  },
  {
   "cell_type": "code",
   "execution_count": 18,
   "metadata": {},
   "outputs": [
    {
     "data": {
      "text/plain": [
       "<matplotlib.colorbar.Colorbar at 0x1af002936d0>"
      ]
     },
     "execution_count": 18,
     "metadata": {},
     "output_type": "execute_result"
    },
    {
     "data": {
      "image/png": "[encoded data removed]",
      "text/plain": [
       "<Figure size 432x288 with 2 Axes>"
      ]
     },
     "metadata": {
      "needs_background": "light"
     },
     "output_type": "display_data"
    }
   ],
   "source": [
    "params = b[:784, 0].reshape(28, 28)\n",
    "\n",
    "from sklearn.preprocessing import StandardScaler\n",
    "params = StandardScaler().fit_transform(params)\n",
    "ax = plt.imshow(params)\n",
    "plt.colorbar(ax)"
   ]
  },
  {
   "cell_type": "code",
   "execution_count": 19,
   "metadata": {},
   "outputs": [
    {
     "data": {
      "text/plain": [
       "94.64"
      ]
     },
     "execution_count": 19,
     "metadata": {},
     "output_type": "execute_result"
    }
   ],
   "source": [
    "# LEAST SQUARES DIGIT 5\n",
    "b = mnist_least_squares(train['image'], train['label'], 5, least_squares_solver())\n",
    "\n",
    "y_predict = classify(test['image'], b)\n",
    "y_predict[y_predict > 0] = 1\n",
    "y_predict[y_predict < 0] = -1\n",
    "\n",
    "y_expect = transform_labels(test['label'], 5)\n",
    "np.sum((y_predict == y_expect))/100"
   ]
  },
  {
   "cell_type": "code",
   "execution_count": 20,
   "metadata": {},
   "outputs": [
    {
     "data": {
      "text/plain": [
       "<matplotlib.colorbar.Colorbar at 0x1af0032b4f0>"
      ]
     },
     "execution_count": 20,
     "metadata": {},
     "output_type": "execute_result"
    },
    {
     "data": {
      "image/png": "[encoded data removed]",
      "text/plain": [
       "<Figure size 432x288 with 2 Axes>"
      ]
     },
     "metadata": {
      "needs_background": "light"
     },
     "output_type": "display_data"
    }
   ],
   "source": [
    "params = b[:784, 0].reshape(28, 28)\n",
    "\n",
    "from sklearn.preprocessing import StandardScaler\n",
    "params = StandardScaler().fit_transform(params)\n",
    "ax = plt.imshow(params)\n",
    "plt.colorbar(ax)"
   ]
  },
  {
   "cell_type": "code",
   "execution_count": 21,
   "metadata": {},
   "outputs": [
    {
     "data": {
      "text/plain": [
       "97.4"
      ]
     },
     "execution_count": 21,
     "metadata": {},
     "output_type": "execute_result"
    }
   ],
   "source": [
    "# LEAST SQUARES DIGIT 6\n",
    "b = mnist_least_squares(train['image'], train['label'], 6, least_squares_solver())\n",
    "\n",
    "y_predict = classify(test['image'], b)\n",
    "y_predict[y_predict > 0] = 1\n",
    "y_predict[y_predict < 0] = -1\n",
    "\n",
    "y_expect = transform_labels(test['label'], 6)\n",
    "np.sum((y_predict == y_expect))/100"
   ]
  },
  {
   "cell_type": "code",
   "execution_count": 22,
   "metadata": {},
   "outputs": [
    {
     "data": {
      "text/plain": [
       "<matplotlib.colorbar.Colorbar at 0x1af003bd2e0>"
      ]
     },
     "execution_count": 22,
     "metadata": {},
     "output_type": "execute_result"
    },
    {
     "data": {
      "image/png": "[encoded data removed]",
      "text/plain": [
       "<Figure size 432x288 with 2 Axes>"
      ]
     },
     "metadata": {
      "needs_background": "light"
     },
     "output_type": "display_data"
    }
   ],
   "source": [
    "params = b[:784, 0].reshape(28, 28)\n",
    "\n",
    "from sklearn.preprocessing import StandardScaler\n",
    "params = StandardScaler().fit_transform(params)\n",
    "ax = plt.imshow(params)\n",
    "plt.colorbar(ax)"
   ]
  },
  {
   "cell_type": "code",
   "execution_count": 23,
   "metadata": {},
   "outputs": [
    {
     "data": {
      "text/plain": [
       "96.46"
      ]
     },
     "execution_count": 23,
     "metadata": {},
     "output_type": "execute_result"
    }
   ],
   "source": [
    "# LEAST SQUARES DIGIT 7\n",
    "b = mnist_least_squares(train['image'], train['label'], 7, least_squares_solver())\n",
    "\n",
    "y_predict = classify(test['image'], b)\n",
    "y_predict[y_predict > 0] = 1\n",
    "y_predict[y_predict < 0] = -1\n",
    "\n",
    "y_expect = transform_labels(test['label'], 7)\n",
    "np.sum((y_predict == y_expect))/100"
   ]
  },
  {
   "cell_type": "code",
   "execution_count": 24,
   "metadata": {},
   "outputs": [
    {
     "data": {
      "text/plain": [
       "<matplotlib.colorbar.Colorbar at 0x1af00460100>"
      ]
     },
     "execution_count": 24,
     "metadata": {},
     "output_type": "execute_result"
    },
    {
     "data": {
      "image/png": "[encoded data removed]",
      "text/plain": [
       "<Figure size 432x288 with 2 Axes>"
      ]
     },
     "metadata": {
      "needs_background": "light"
     },
     "output_type": "display_data"
    }
   ],
   "source": [
    "params = b[:784, 0].reshape(28, 28)\n",
    "\n",
    "from sklearn.preprocessing import StandardScaler\n",
    "params = StandardScaler().fit_transform(params)\n",
    "ax = plt.imshow(params)\n",
    "plt.colorbar(ax)"
   ]
  },
  {
   "cell_type": "code",
   "execution_count": 25,
   "metadata": {},
   "outputs": [
    {
     "data": {
      "text/plain": [
       "94.9"
      ]
     },
     "execution_count": 25,
     "metadata": {},
     "output_type": "execute_result"
    }
   ],
   "source": [
    "# LEAST SQUARES DIGIT 8\n",
    "b = mnist_least_squares(train['image'], train['label'], 8, least_squares_solver())\n",
    "\n",
    "y_predict = classify(test['image'], b)\n",
    "y_predict[y_predict > 0] = 1\n",
    "y_predict[y_predict < 0] = -1\n",
    "\n",
    "y_expect = transform_labels(test['label'], 8)\n",
    "np.sum((y_predict == y_expect))/100"
   ]
  },
  {
   "cell_type": "code",
   "execution_count": 26,
   "metadata": {},
   "outputs": [
    {
     "data": {
      "text/plain": [
       "<matplotlib.colorbar.Colorbar at 0x1af004e9a60>"
      ]
     },
     "execution_count": 26,
     "metadata": {},
     "output_type": "execute_result"
    },
    {
     "data": {
      "image/png": "[encoded data removed]",
      "text/plain": [
       "<Figure size 432x288 with 2 Axes>"
      ]
     },
     "metadata": {
      "needs_background": "light"
     },
     "output_type": "display_data"
    }
   ],
   "source": [
    "params = b[:784, 0].reshape(28, 28)\n",
    "\n",
    "from sklearn.preprocessing import StandardScaler\n",
    "params = StandardScaler().fit_transform(params)\n",
    "ax = plt.imshow(params)\n",
    "plt.colorbar(ax)"
   ]
  },
  {
   "cell_type": "code",
   "execution_count": 27,
   "metadata": {},
   "outputs": [
    {
     "data": {
      "text/plain": [
       "94.8"
      ]
     },
     "execution_count": 27,
     "metadata": {},
     "output_type": "execute_result"
    }
   ],
   "source": [
    "# LEAST SQUARES DIGIT 9\n",
    "b = mnist_least_squares(train['image'], train['label'], 9, least_squares_solver())\n",
    "\n",
    "y_predict = classify(test['image'], b)\n",
    "y_predict[y_predict > 0] = 1\n",
    "y_predict[y_predict < 0] = -1\n",
    "\n",
    "y_expect = transform_labels(test['label'], 9)\n",
    "np.sum((y_predict == y_expect))/100"
   ]
  },
  {
   "cell_type": "code",
   "execution_count": 28,
   "metadata": {},
   "outputs": [
    {
     "data": {
      "text/plain": [
       "<matplotlib.colorbar.Colorbar at 0x1af002251c0>"
      ]
     },
     "execution_count": 28,
     "metadata": {},
     "output_type": "execute_result"
    },
    {
     "data": {
      "image/png": "[encoded data removed]",
      "text/plain": [
       "<Figure size 432x288 with 2 Axes>"
      ]
     },
     "metadata": {
      "needs_background": "light"
     },
     "output_type": "display_data"
    }
   ],
   "source": [
    "params = b[:784, 0].reshape(28, 28)\n",
    "\n",
    "from sklearn.preprocessing import StandardScaler\n",
    "params = StandardScaler().fit_transform(params)\n",
    "ax = plt.imshow(params)\n",
    "plt.colorbar(ax)"
   ]
  },
  {
   "cell_type": "markdown",
   "metadata": {},
   "source": [
    "The Results for Part I:\n",
    "0: 98.43 % \n",
    "1: 98.34 %\n",
    "2: 95.85 %\n",
    "3: 96.02 % \n",
    "4: 96.65 %\n",
    "5: 94.64 %\n",
    "6: 97.40 %\n",
    "7: 96.46 %\n",
    "8: 94.90 %\n",
    "9: 84.80 %"
   ]
  },
  {
   "cell_type": "markdown",
   "metadata": {},
   "source": [
    "**PART II**\n",
    "For Part II, we will modify the current binary classifier to include  the regularization parameter shown in the instruction pdf. "
   ]
  },
  {
   "cell_type": "markdown",
   "metadata": {},
   "source": [
    "__LEAST SQUARES CLASSIFIER WITH REGULARIZATION PARAMETER ON DIGITS 0-9__"
   ]
  },
  {
   "cell_type": "code",
   "execution_count": 29,
   "metadata": {
    "scrolled": true
   },
   "outputs": [
    {
     "data": {
      "text/plain": [
       "98.49"
      ]
     },
     "execution_count": 29,
     "metadata": {},
     "output_type": "execute_result"
    }
   ],
   "source": [
    "# LEAST SQUARES WITH REGULARIZATION DIGIT 0\n",
    "b = mnist_least_squares(train['image'], train['label'], 0, least_squares_with_regularization_solver(100))\n",
    "y_predict = classify(test['image'], b)\n",
    "y_predict[y_predict > 0] = 1\n",
    "y_predict[y_predict < 0] = -1\n",
    "\n",
    "y_expect = transform_labels(test['label'], 0)\n",
    "np.sum((y_predict == y_expect))/100"
   ]
  },
  {
   "cell_type": "code",
   "execution_count": 30,
   "metadata": {},
   "outputs": [
    {
     "data": {
      "text/plain": [
       "<matplotlib.colorbar.Colorbar at 0x1af005e90a0>"
      ]
     },
     "execution_count": 30,
     "metadata": {},
     "output_type": "execute_result"
    },
    {
     "data": {
      "image/png": "[encoded data removed]",
      "text/plain": [
       "<Figure size 432x288 with 2 Axes>"
      ]
     },
     "metadata": {
      "needs_background": "light"
     },
     "output_type": "display_data"
    }
   ],
   "source": [
    "params = b[:784, 0].reshape(28, 28)\n",
    "\n",
    "from sklearn.preprocessing import StandardScaler\n",
    "params = StandardScaler().fit_transform(params)\n",
    "ax = plt.imshow(params)\n",
    "plt.colorbar(ax)"
   ]
  },
  {
   "cell_type": "code",
   "execution_count": 31,
   "metadata": {},
   "outputs": [
    {
     "data": {
      "text/plain": [
       "98.34"
      ]
     },
     "execution_count": 31,
     "metadata": {},
     "output_type": "execute_result"
    }
   ],
   "source": [
    "# LEAST SQUARES WITH REGULARIZATION DIGIT 1\n",
    "b = mnist_least_squares(train['image'], train['label'], 1, least_squares_with_regularization_solver(100))\n",
    "y_predict = classify(test['image'], b)\n",
    "y_predict[y_predict > 0] = 1\n",
    "y_predict[y_predict < 0] = -1\n",
    "\n",
    "y_expect = transform_labels(test['label'], 1)\n",
    "np.sum((y_predict == y_expect))/100"
   ]
  },
  {
   "cell_type": "code",
   "execution_count": 32,
   "metadata": {},
   "outputs": [
    {
     "data": {
      "text/plain": [
       "<matplotlib.colorbar.Colorbar at 0x1af00672d90>"
      ]
     },
     "execution_count": 32,
     "metadata": {},
     "output_type": "execute_result"
    },
    {
     "data": {
      "image/png": "[encoded data removed]",
      "text/plain": [
       "<Figure size 432x288 with 2 Axes>"
      ]
     },
     "metadata": {
      "needs_background": "light"
     },
     "output_type": "display_data"
    }
   ],
   "source": [
    "params = b[:784, 0].reshape(28, 28)\n",
    "\n",
    "from sklearn.preprocessing import StandardScaler\n",
    "params = StandardScaler().fit_transform(params)\n",
    "ax = plt.imshow(params)\n",
    "plt.colorbar(ax)"
   ]
  },
  {
   "cell_type": "code",
   "execution_count": 33,
   "metadata": {},
   "outputs": [
    {
     "data": {
      "text/plain": [
       "95.82"
      ]
     },
     "execution_count": 33,
     "metadata": {},
     "output_type": "execute_result"
    }
   ],
   "source": [
    "# LEAST SQUARES WITH REGULARIZATION DIGIT 2\n",
    "b = mnist_least_squares(train['image'], train['label'], 2, least_squares_with_regularization_solver(100))\n",
    "y_predict = classify(test['image'], b)\n",
    "y_predict[y_predict > 0] = 1\n",
    "y_predict[y_predict < 0] = -1\n",
    "\n",
    "y_expect = transform_labels(test['label'], 2)\n",
    "np.sum((y_predict == y_expect))/100"
   ]
  },
  {
   "cell_type": "code",
   "execution_count": 34,
   "metadata": {},
   "outputs": [
    {
     "data": {
      "text/plain": [
       "<matplotlib.colorbar.Colorbar at 0x1af00706b50>"
      ]
     },
     "execution_count": 34,
     "metadata": {},
     "output_type": "execute_result"
    },
    {
     "data": {
      "image/png": "[encoded data removed]",
      "text/plain": [
       "<Figure size 432x288 with 2 Axes>"
      ]
     },
     "metadata": {
      "needs_background": "light"
     },
     "output_type": "display_data"
    }
   ],
   "source": [
    "params = b[:784, 0].reshape(28, 28)\n",
    "\n",
    "from sklearn.preprocessing import StandardScaler\n",
    "params = StandardScaler().fit_transform(params)\n",
    "ax = plt.imshow(params)\n",
    "plt.colorbar(ax)"
   ]
  },
  {
   "cell_type": "code",
   "execution_count": 35,
   "metadata": {},
   "outputs": [
    {
     "data": {
      "text/plain": [
       "96.02"
      ]
     },
     "execution_count": 35,
     "metadata": {},
     "output_type": "execute_result"
    }
   ],
   "source": [
    "# LEAST SQUARES WITH REGULARIZATION DIGIT 3\n",
    "b = mnist_least_squares(train['image'], train['label'], 3, least_squares_with_regularization_solver(100))\n",
    "y_predict = classify(test['image'], b)\n",
    "y_predict[y_predict > 0] = 1\n",
    "y_predict[y_predict < 0] = -1\n",
    "\n",
    "y_expect = transform_labels(test['label'], 3)\n",
    "np.sum((y_predict == y_expect))/100"
   ]
  },
  {
   "cell_type": "code",
   "execution_count": 36,
   "metadata": {},
   "outputs": [
    {
     "data": {
      "text/plain": [
       "<matplotlib.colorbar.Colorbar at 0x1af0079b970>"
      ]
     },
     "execution_count": 36,
     "metadata": {},
     "output_type": "execute_result"
    },
    {
     "data": {
      "image/png": "[encoded data removed]",
      "text/plain": [
       "<Figure size 432x288 with 2 Axes>"
      ]
     },
     "metadata": {
      "needs_background": "light"
     },
     "output_type": "display_data"
    }
   ],
   "source": [
    "params = b[:784, 0].reshape(28, 28)\n",
    "\n",
    "from sklearn.preprocessing import StandardScaler\n",
    "params = StandardScaler().fit_transform(params)\n",
    "ax = plt.imshow(params)\n",
    "plt.colorbar(ax)"
   ]
  },
  {
   "cell_type": "code",
   "execution_count": 37,
   "metadata": {},
   "outputs": [
    {
     "data": {
      "text/plain": [
       "96.69"
      ]
     },
     "execution_count": 37,
     "metadata": {},
     "output_type": "execute_result"
    }
   ],
   "source": [
    "# LEAST SQUARES WITH REGULARIZATION DIGIT 4\n",
    "b = mnist_least_squares(train['image'], train['label'], 4, least_squares_with_regularization_solver(100))\n",
    "y_predict = classify(test['image'], b)\n",
    "y_predict[y_predict > 0] = 1\n",
    "y_predict[y_predict < 0] = -1\n",
    "\n",
    "y_expect = transform_labels(test['label'], 4)\n",
    "np.sum((y_predict == y_expect))/100"
   ]
  },
  {
   "cell_type": "code",
   "execution_count": 38,
   "metadata": {},
   "outputs": [
    {
     "data": {
      "text/plain": [
       "<matplotlib.colorbar.Colorbar at 0x1af00832730>"
      ]
     },
     "execution_count": 38,
     "metadata": {},
     "output_type": "execute_result"
    },
    {
     "data": {
      "image/png": "[encoded data removed]",
      "text/plain": [
       "<Figure size 432x288 with 2 Axes>"
      ]
     },
     "metadata": {
      "needs_background": "light"
     },
     "output_type": "display_data"
    }
   ],
   "source": [
    "params = b[:784, 0].reshape(28, 28)\n",
    "\n",
    "from sklearn.preprocessing import StandardScaler\n",
    "params = StandardScaler().fit_transform(params)\n",
    "ax = plt.imshow(params)\n",
    "plt.colorbar(ax)"
   ]
  },
  {
   "cell_type": "code",
   "execution_count": 39,
   "metadata": {},
   "outputs": [
    {
     "data": {
      "text/plain": [
       "94.65"
      ]
     },
     "execution_count": 39,
     "metadata": {},
     "output_type": "execute_result"
    }
   ],
   "source": [
    "# LEAST SQUARES WITH REGULARIZATION DIGIT 5\n",
    "b = mnist_least_squares(train['image'], train['label'], 5, least_squares_with_regularization_solver(100))\n",
    "y_predict = classify(test['image'], b)\n",
    "y_predict[y_predict > 0] = 1\n",
    "y_predict[y_predict < 0] = -1\n",
    "\n",
    "y_expect = transform_labels(test['label'], 5)\n",
    "np.sum((y_predict == y_expect))/100"
   ]
  },
  {
   "cell_type": "code",
   "execution_count": 40,
   "metadata": {},
   "outputs": [
    {
     "data": {
      "text/plain": [
       "<matplotlib.colorbar.Colorbar at 0x1af008c9520>"
      ]
     },
     "execution_count": 40,
     "metadata": {},
     "output_type": "execute_result"
    },
    {
     "data": {
      "image/png": "[encoded data removed]",
      "text/plain": [
       "<Figure size 432x288 with 2 Axes>"
      ]
     },
     "metadata": {
      "needs_background": "light"
     },
     "output_type": "display_data"
    }
   ],
   "source": [
    "params = b[:784, 0].reshape(28, 28)\n",
    "\n",
    "from sklearn.preprocessing import StandardScaler\n",
    "params = StandardScaler().fit_transform(params)\n",
    "ax = plt.imshow(params)\n",
    "plt.colorbar(ax)"
   ]
  },
  {
   "cell_type": "code",
   "execution_count": 41,
   "metadata": {},
   "outputs": [
    {
     "data": {
      "text/plain": [
       "97.43"
      ]
     },
     "execution_count": 41,
     "metadata": {},
     "output_type": "execute_result"
    }
   ],
   "source": [
    "# LEAST SQUARES WITH REGULARIZATION DIGIT 6\n",
    "b = mnist_least_squares(train['image'], train['label'], 6, least_squares_with_regularization_solver(100))\n",
    "y_predict = classify(test['image'], b)\n",
    "y_predict[y_predict > 0] = 1\n",
    "y_predict[y_predict < 0] = -1\n",
    "\n",
    "y_expect = transform_labels(test['label'], 6)\n",
    "np.sum((y_predict == y_expect))/100"
   ]
  },
  {
   "cell_type": "code",
   "execution_count": 42,
   "metadata": {},
   "outputs": [
    {
     "data": {
      "text/plain": [
       "<matplotlib.colorbar.Colorbar at 0x1af0095b2e0>"
      ]
     },
     "execution_count": 42,
     "metadata": {},
     "output_type": "execute_result"
    },
    {
     "data": {
      "image/png": "[encoded data removed]",
      "text/plain": [
       "<Figure size 432x288 with 2 Axes>"
      ]
     },
     "metadata": {
      "needs_background": "light"
     },
     "output_type": "display_data"
    }
   ],
   "source": [
    "params = b[:784, 0].reshape(28, 28)\n",
    "\n",
    "from sklearn.preprocessing import StandardScaler\n",
    "params = StandardScaler().fit_transform(params)\n",
    "ax = plt.imshow(params)\n",
    "plt.colorbar(ax)"
   ]
  },
  {
   "cell_type": "code",
   "execution_count": 43,
   "metadata": {},
   "outputs": [
    {
     "data": {
      "text/plain": [
       "96.47"
      ]
     },
     "execution_count": 43,
     "metadata": {},
     "output_type": "execute_result"
    }
   ],
   "source": [
    "# LEAST SQUARES WITH REGULARIZATION DIGIT 7\n",
    "b = mnist_least_squares(train['image'], train['label'], 7, least_squares_with_regularization_solver(100))\n",
    "y_predict = classify(test['image'], b)\n",
    "y_predict[y_predict > 0] = 1\n",
    "y_predict[y_predict < 0] = -1\n",
    "\n",
    "y_expect = transform_labels(test['label'], 7)\n",
    "np.sum((y_predict == y_expect))/100"
   ]
  },
  {
   "cell_type": "code",
   "execution_count": 44,
   "metadata": {},
   "outputs": [
    {
     "data": {
      "text/plain": [
       "<matplotlib.colorbar.Colorbar at 0x1af009f10d0>"
      ]
     },
     "execution_count": 44,
     "metadata": {},
     "output_type": "execute_result"
    },
    {
     "data": {
      "image/png": "[encoded data removed]",
      "text/plain": [
       "<Figure size 432x288 with 2 Axes>"
      ]
     },
     "metadata": {
      "needs_background": "light"
     },
     "output_type": "display_data"
    }
   ],
   "source": [
    "params = b[:784, 0].reshape(28, 28)\n",
    "\n",
    "from sklearn.preprocessing import StandardScaler\n",
    "params = StandardScaler().fit_transform(params)\n",
    "ax = plt.imshow(params)\n",
    "plt.colorbar(ax)"
   ]
  },
  {
   "cell_type": "code",
   "execution_count": 45,
   "metadata": {},
   "outputs": [
    {
     "data": {
      "text/plain": [
       "94.89"
      ]
     },
     "execution_count": 45,
     "metadata": {},
     "output_type": "execute_result"
    }
   ],
   "source": [
    "# LEAST SQUARES WITH REGULARIZATION DIGIT 8\n",
    "b = mnist_least_squares(train['image'], train['label'], 8, least_squares_with_regularization_solver(100))\n",
    "y_predict = classify(test['image'], b)\n",
    "y_predict[y_predict > 0] = 1\n",
    "y_predict[y_predict < 0] = -1\n",
    "\n",
    "y_expect = transform_labels(test['label'], 8)\n",
    "np.sum((y_predict == y_expect))/100"
   ]
  },
  {
   "cell_type": "code",
   "execution_count": 46,
   "metadata": {},
   "outputs": [
    {
     "data": {
      "text/plain": [
       "<matplotlib.colorbar.Colorbar at 0x1af00a88040>"
      ]
     },
     "execution_count": 46,
     "metadata": {},
     "output_type": "execute_result"
    },
    {
     "data": {
      "image/png": "[encoded data removed]",
      "text/plain": [
       "<Figure size 432x288 with 2 Axes>"
      ]
     },
     "metadata": {
      "needs_background": "light"
     },
     "output_type": "display_data"
    }
   ],
   "source": [
    "params = b[:784, 0].reshape(28, 28)\n",
    "\n",
    "from sklearn.preprocessing import StandardScaler\n",
    "params = StandardScaler().fit_transform(params)\n",
    "ax = plt.imshow(params)\n",
    "plt.colorbar(ax)"
   ]
  },
  {
   "cell_type": "code",
   "execution_count": 47,
   "metadata": {},
   "outputs": [
    {
     "data": {
      "text/plain": [
       "94.81"
      ]
     },
     "execution_count": 47,
     "metadata": {},
     "output_type": "execute_result"
    }
   ],
   "source": [
    "# LEAST SQUARES WITH REGULARIZATION DIGIT 9\n",
    "b = mnist_least_squares(train['image'], train['label'], 9, least_squares_with_regularization_solver(100))\n",
    "y_predict = classify(test['image'], b)\n",
    "y_predict[y_predict > 0] = 1\n",
    "y_predict[y_predict < 0] = -1\n",
    "\n",
    "y_expect = transform_labels(test['label'], 9)\n",
    "np.sum((y_predict == y_expect))/100"
   ]
  },
  {
   "cell_type": "code",
   "execution_count": 48,
   "metadata": {},
   "outputs": [
    {
     "data": {
      "text/plain": [
       "<matplotlib.colorbar.Colorbar at 0x1af00b12760>"
      ]
     },
     "execution_count": 48,
     "metadata": {},
     "output_type": "execute_result"
    },
    {
     "data": {
      "image/png": "[encoded data removed]",
      "text/plain": [
       "<Figure size 432x288 with 2 Axes>"
      ]
     },
     "metadata": {
      "needs_background": "light"
     },
     "output_type": "display_data"
    }
   ],
   "source": [
    "params = b[:784, 0].reshape(28, 28)\n",
    "\n",
    "from sklearn.preprocessing import StandardScaler\n",
    "params = StandardScaler().fit_transform(params)\n",
    "ax = plt.imshow(params)\n",
    "plt.colorbar(ax)"
   ]
  },
  {
   "cell_type": "markdown",
   "metadata": {},
   "source": [
    "The Results for Part I:\n",
    "0: 98.43 % \n",
    "1: 98.34 %\n",
    "2: 95.85 %\n",
    "3: 96.02 % \n",
    "4: 96.65 %\n",
    "5: 94.64 %\n",
    "6: 97.40 %\n",
    "7: 96.46 %\n",
    "8: 94.90 %\n",
    "9: 84.80 %\n",
    "\n",
    "Results for Part II:\n",
    "0: 98.49 %\n",
    "1: 98.34 %\n",
    "2: 95.82 %\n",
    "3: 96.02 %\n",
    "4: 96.69 %\n",
    "5: 94.65 %\n",
    "6: 97.43 %\n",
    "7: 96.47 %\n",
    "8: 94.89 %\n",
    "9: 94.81 %\n",
    "\n",
    "In comparison to the results using the least squares classifier without regularization, there have been some improvements.\n",
    "For 6 out of the 10 digits, there were slight improvements. For the other 4 digits, they were either the same or slightly less. \n",
    "So, I would say, it slightly improved, but nothing too significant to really say there was great imporvement."
   ]
  },
  {
   "cell_type": "markdown",
   "metadata": {},
   "source": [
    "**PART III**\n",
    "We will compute the 10 largest eigenvalues and corresponding eigenvectors of the covariance matrix for the selected digit k of the \"train\" data set. We will display the eigenvectors as 28x28 images"
   ]
  },
  {
   "cell_type": "code",
   "execution_count": 49,
   "metadata": {},
   "outputs": [],
   "source": [
    "from sklearn.preprocessing import StandardScaler\n",
    "x = transform_images(train['image'])[:, :784]\n",
    "x = StandardScaler().fit_transform(x)\n",
    "covarianceMatrix = np.cov(x.transpose())"
   ]
  },
  {
   "cell_type": "code",
   "execution_count": 50,
   "metadata": {},
   "outputs": [],
   "source": [
    "A, e = np.linalg.eig(covarianceMatrix)\n",
    "A[:10], e[:10]\n",
    "\n",
    "eig_pairs = [(np.abs(A[i]), e[:, i]) for i in range(len(A))]\n",
    "\n",
    "eig_pairs.sort(key = lambda x: x[0], reverse = True)"
   ]
  },
  {
   "cell_type": "code",
   "execution_count": 51,
   "metadata": {},
   "outputs": [
    {
     "data": {
      "text/plain": [
       "<matplotlib.image.AxesImage at 0x1af006e7880>"
      ]
     },
     "execution_count": 51,
     "metadata": {},
     "output_type": "execute_result"
    },
    {
     "data": {
      "image/png": "[encoded data removed]",
      "text/plain": [
       "<Figure size 432x288 with 1 Axes>"
      ]
     },
     "metadata": {
      "needs_background": "light"
     },
     "output_type": "display_data"
    }
   ],
   "source": [
    "plt.imshow(e[0].reshape((28, 28)))"
   ]
  },
  {
   "cell_type": "code",
   "execution_count": 52,
   "metadata": {},
   "outputs": [
    {
     "data": {
      "text/plain": [
       "<matplotlib.image.AxesImage at 0x1af0097ab50>"
      ]
     },
     "execution_count": 52,
     "metadata": {},
     "output_type": "execute_result"
    },
    {
     "data": {
      "image/png": "[encoded data removed]",
      "text/plain": [
       "<Figure size 432x288 with 1 Axes>"
      ]
     },
     "metadata": {
      "needs_background": "light"
     },
     "output_type": "display_data"
    }
   ],
   "source": [
    "plt.imshow(e[1].reshape((28,28)))"
   ]
  },
  {
   "cell_type": "code",
   "execution_count": 53,
   "metadata": {},
   "outputs": [
    {
     "data": {
      "text/plain": [
       "<matplotlib.image.AxesImage at 0x1af00b50f10>"
      ]
     },
     "execution_count": 53,
     "metadata": {},
     "output_type": "execute_result"
    },
    {
     "data": {
      "image/png": "[encoded data removed]",
      "text/plain": [
       "<Figure size 432x288 with 1 Axes>"
      ]
     },
     "metadata": {
      "needs_background": "light"
     },
     "output_type": "display_data"
    }
   ],
   "source": [
    "plt.imshow(e[2].reshape((28,28)))"
   ]
  },
  {
   "cell_type": "code",
   "execution_count": 54,
   "metadata": {},
   "outputs": [
    {
     "data": {
      "text/plain": [
       "<matplotlib.image.AxesImage at 0x1af17cd5760>"
      ]
     },
     "execution_count": 54,
     "metadata": {},
     "output_type": "execute_result"
    },
    {
     "data": {
      "image/png": "[encoded data removed]",
      "text/plain": [
       "<Figure size 432x288 with 1 Axes>"
      ]
     },
     "metadata": {
      "needs_background": "light"
     },
     "output_type": "display_data"
    }
   ],
   "source": [
    "plt.imshow(e[3].reshape((28,28)))"
   ]
  },
  {
   "cell_type": "code",
   "execution_count": 55,
   "metadata": {},
   "outputs": [
    {
     "data": {
      "text/plain": [
       "<matplotlib.image.AxesImage at 0x1af17d22df0>"
      ]
     },
     "execution_count": 55,
     "metadata": {},
     "output_type": "execute_result"
    },
    {
     "data": {
      "image/png": "[encoded data removed]",
      "text/plain": [
       "<Figure size 432x288 with 1 Axes>"
      ]
     },
     "metadata": {
      "needs_background": "light"
     },
     "output_type": "display_data"
    }
   ],
   "source": [
    "plt.imshow(e[4].reshape((28,28)))"
   ]
  },
  {
   "cell_type": "code",
   "execution_count": 56,
   "metadata": {},
   "outputs": [
    {
     "data": {
      "text/plain": [
       "<matplotlib.image.AxesImage at 0x1af17d7c580>"
      ]
     },
     "execution_count": 56,
     "metadata": {},
     "output_type": "execute_result"
    },
    {
     "data": {
      "image/png": "[encoded data removed]",
      "text/plain": [
       "<Figure size 432x288 with 1 Axes>"
      ]
     },
     "metadata": {
      "needs_background": "light"
     },
     "output_type": "display_data"
    }
   ],
   "source": [
    "plt.imshow(e[5].reshape((28,28)))"
   ]
  },
  {
   "cell_type": "code",
   "execution_count": 57,
   "metadata": {},
   "outputs": [
    {
     "data": {
      "text/plain": [
       "<matplotlib.image.AxesImage at 0x1af17dc8c40>"
      ]
     },
     "execution_count": 57,
     "metadata": {},
     "output_type": "execute_result"
    },
    {
     "data": {
      "image/png": "[encoded data removed]",
      "text/plain": [
       "<Figure size 432x288 with 1 Axes>"
      ]
     },
     "metadata": {
      "needs_background": "light"
     },
     "output_type": "display_data"
    }
   ],
   "source": [
    "plt.imshow(e[6].reshape((28,28)))"
   ]
  },
  {
   "cell_type": "code",
   "execution_count": 58,
   "metadata": {},
   "outputs": [
    {
     "data": {
      "text/plain": [
       "<matplotlib.image.AxesImage at 0x1af17e21430>"
      ]
     },
     "execution_count": 58,
     "metadata": {},
     "output_type": "execute_result"
    },
    {
     "data": {
      "image/png": "[encoded data removed]",
      "text/plain": [
       "<Figure size 432x288 with 1 Axes>"
      ]
     },
     "metadata": {
      "needs_background": "light"
     },
     "output_type": "display_data"
    }
   ],
   "source": [
    "plt.imshow(e[7].reshape((28,28)))"
   ]
  },
  {
   "cell_type": "code",
   "execution_count": 59,
   "metadata": {},
   "outputs": [
    {
     "data": {
      "text/plain": [
       "<matplotlib.image.AxesImage at 0x1af17e70ca0>"
      ]
     },
     "execution_count": 59,
     "metadata": {},
     "output_type": "execute_result"
    },
    {
     "data": {
      "image/png": "[encoded data removed]",
      "text/plain": [
       "<Figure size 432x288 with 1 Axes>"
      ]
     },
     "metadata": {
      "needs_background": "light"
     },
     "output_type": "display_data"
    }
   ],
   "source": [
    "plt.imshow(e[8].reshape((28,28)))"
   ]
  },
  {
   "cell_type": "code",
   "execution_count": 60,
   "metadata": {},
   "outputs": [
    {
     "data": {
      "text/plain": [
       "<matplotlib.image.AxesImage at 0x1af17ec9250>"
      ]
     },
     "execution_count": 60,
     "metadata": {},
     "output_type": "execute_result"
    },
    {
     "data": {
      "image/png": "[encoded data removed]",
      "text/plain": [
       "<Figure size 432x288 with 1 Axes>"
      ]
     },
     "metadata": {
      "needs_background": "light"
     },
     "output_type": "display_data"
    }
   ],
   "source": [
    "plt.imshow(e[9].reshape((28,28)))"
   ]
  },
  {
   "cell_type": "code",
   "execution_count": 61,
   "metadata": {},
   "outputs": [],
   "source": [
    "exp_var_percentage = 0.97\n",
    "tot = sum(A)\n",
    "var_exp = [(i / tot) * 100 for i in sorted(A, reverse = True)]\n",
    "cum_var_exp = np.cumsum(var_exp)\n",
    "\n",
    "num_vec_to_keep = 0\n",
    "\n",
    "for index, percentage in enumerate(cum_var_exp):\n",
    "    if percentage > exp_var_percentage:\n",
    "        num_vec_to_keep = index + 1\n",
    "        break"
   ]
  },
  {
   "cell_type": "code",
   "execution_count": 62,
   "metadata": {},
   "outputs": [
    {
     "data": {
      "text/plain": [
       "array([[ 0.92215881],\n",
       "       [-8.70897698],\n",
       "       [-2.32838932],\n",
       "       ...,\n",
       "       [ 3.77721201],\n",
       "       [-1.72236917],\n",
       "       [ 1.42725062]])"
      ]
     },
     "execution_count": 62,
     "metadata": {},
     "output_type": "execute_result"
    }
   ],
   "source": [
    "num_features = x.shape[1]\n",
    "proj_mat = eig_pairs[0][1].reshape(num_features,1)\n",
    "for eig_vec_idx in range(1, num_vec_to_keep):\n",
    "    proj_mat = np.hstack((proj_mat, eig_pairs[eig_vec_idx][1].reshape(num_features,1)))\n",
    "    \n",
    "pca_data = x.dot(proj_mat)\n",
    "pca_data"
   ]
  },
  {
   "cell_type": "markdown",
   "metadata": {},
   "source": [
    "**PART IV**\n",
    "Part IV, we will extend the linear formulation of the Least Squares in Part 1 to a non-linear Least Squares. More details in the instruction pdf."
   ]
  },
  {
   "cell_type": "code",
   "execution_count": 63,
   "metadata": {},
   "outputs": [
    {
     "data": {
      "text/plain": [
       "9867"
      ]
     },
     "execution_count": 63,
     "metadata": {},
     "output_type": "execute_result"
    }
   ],
   "source": [
    "def nonlinearLS(x0, x, k):\n",
    "    answer = 1 / (1 + np.exp(-k * (x - x0)))\n",
    "    return answer\n",
    "\n",
    "x = nonlinearLS(0, train['image'], 1)\n",
    "\n",
    "# DIGIT ZERO FOR PART IV\n",
    "\n",
    "b = mnist_least_squares(x, train['label'], 0, least_squares_solver())\n",
    "\n",
    "y = nonlinearLS(0, test['image'], 1)\n",
    "\n",
    "y_predict = classify(y, b)\n",
    "y_predict[y_predict > 0] = 1\n",
    "y_predict[y_predict < 0] = -1\n",
    "\n",
    "y_expect = transform_labels(test['label'], 0)\n",
    "np.sum((y_predict == y_expect))"
   ]
  },
  {
   "cell_type": "code",
   "execution_count": 64,
   "metadata": {},
   "outputs": [
    {
     "data": {
      "text/plain": [
       "<matplotlib.colorbar.Colorbar at 0x1af02993af0>"
      ]
     },
     "execution_count": 64,
     "metadata": {},
     "output_type": "execute_result"
    },
    {
     "data": {
      "image/png": "[encoded data removed]",
      "text/plain": [
       "<Figure size 432x288 with 2 Axes>"
      ]
     },
     "metadata": {
      "needs_background": "light"
     },
     "output_type": "display_data"
    }
   ],
   "source": [
    "params = b[:784, 0].reshape(28, 28)\n",
    "\n",
    "from sklearn.preprocessing import StandardScaler\n",
    "params = StandardScaler().fit_transform(params)\n",
    "ax = plt.imshow(params)\n",
    "plt.colorbar(ax)"
   ]
  },
  {
   "cell_type": "code",
   "execution_count": 65,
   "metadata": {},
   "outputs": [
    {
     "data": {
      "text/plain": [
       "9847"
      ]
     },
     "execution_count": 65,
     "metadata": {},
     "output_type": "execute_result"
    }
   ],
   "source": [
    "# DIGIT ONE FOR PART IV\n",
    "\n",
    "b = mnist_least_squares(x, train['label'], 1, least_squares_solver())\n",
    "\n",
    "y = nonlinearLS(0, test['image'], 1) \n",
    "\n",
    "y_predict = classify(y, b)\n",
    "y_predict[y_predict > 0] = 1\n",
    "y_predict[y_predict < 0] = -1\n",
    "\n",
    "y_expect = transform_labels(test['label'], 1)\n",
    "np.sum((y_predict == y_expect))"
   ]
  },
  {
   "cell_type": "code",
   "execution_count": 66,
   "metadata": {},
   "outputs": [
    {
     "data": {
      "text/plain": [
       "<matplotlib.colorbar.Colorbar at 0x1af00bb99d0>"
      ]
     },
     "execution_count": 66,
     "metadata": {},
     "output_type": "execute_result"
    },
    {
     "data": {
      "image/png": "[encoded data removed]",
      "text/plain": [
       "<Figure size 432x288 with 2 Axes>"
      ]
     },
     "metadata": {
      "needs_background": "light"
     },
     "output_type": "display_data"
    }
   ],
   "source": [
    "params = b[:784, 0].reshape(28, 28)\n",
    "\n",
    "from sklearn.preprocessing import StandardScaler\n",
    "params = StandardScaler().fit_transform(params)\n",
    "ax = plt.imshow(params)\n",
    "plt.colorbar(ax)"
   ]
  },
  {
   "cell_type": "code",
   "execution_count": 67,
   "metadata": {},
   "outputs": [
    {
     "data": {
      "text/plain": [
       "9625"
      ]
     },
     "execution_count": 67,
     "metadata": {},
     "output_type": "execute_result"
    }
   ],
   "source": [
    "# DIGIT TWO FOR PART IV\n",
    "b = mnist_least_squares(x, train['label'], 2, least_squares_solver())\n",
    "\n",
    "y = nonlinearLS(0, test['image'], 1)\n",
    "\n",
    "y_predict = classify(y, b)\n",
    "y_predict[y_predict > 0] = 1\n",
    "y_predict[y_predict < 0] = -1\n",
    "\n",
    "y_expect = transform_labels(test['label'], 2)\n",
    "np.sum((y_predict == y_expect))"
   ]
  },
  {
   "cell_type": "code",
   "execution_count": 68,
   "metadata": {},
   "outputs": [
    {
     "data": {
      "text/plain": [
       "<matplotlib.colorbar.Colorbar at 0x1af00c47460>"
      ]
     },
     "execution_count": 68,
     "metadata": {},
     "output_type": "execute_result"
    },
    {
     "data": {
      "image/png": "[encoded data removed]",
      "text/plain": [
       "<Figure size 432x288 with 2 Axes>"
      ]
     },
     "metadata": {
      "needs_background": "light"
     },
     "output_type": "display_data"
    }
   ],
   "source": [
    "params = b[:784, 0].reshape(28, 28)\n",
    "\n",
    "from sklearn.preprocessing import StandardScaler\n",
    "params = StandardScaler().fit_transform(params)\n",
    "ax = plt.imshow(params)\n",
    "plt.colorbar(ax)"
   ]
  },
  {
   "cell_type": "code",
   "execution_count": 69,
   "metadata": {},
   "outputs": [
    {
     "data": {
      "text/plain": [
       "9617"
      ]
     },
     "execution_count": 69,
     "metadata": {},
     "output_type": "execute_result"
    }
   ],
   "source": [
    "# DIGIT THREE FOR PART IV\n",
    "b = mnist_least_squares(x, train['label'], 3, least_squares_solver())\n",
    "\n",
    "y = nonlinearLS(0, test['image'], 1)\n",
    "\n",
    "y_predict = classify(y, b)\n",
    "y_predict[y_predict > 0] = 1\n",
    "y_predict[y_predict < 0] = -1\n",
    "\n",
    "y_expect = transform_labels(test['label'], 3)\n",
    "np.sum((y_predict == y_expect))"
   ]
  },
  {
   "cell_type": "code",
   "execution_count": 70,
   "metadata": {},
   "outputs": [
    {
     "data": {
      "text/plain": [
       "<matplotlib.colorbar.Colorbar at 0x1af00ccbaf0>"
      ]
     },
     "execution_count": 70,
     "metadata": {},
     "output_type": "execute_result"
    },
    {
     "data": {
      "image/png": "[encoded data removed]",
      "text/plain": [
       "<Figure size 432x288 with 2 Axes>"
      ]
     },
     "metadata": {
      "needs_background": "light"
     },
     "output_type": "display_data"
    }
   ],
   "source": [
    "params = b[:784, 0].reshape(28, 28)\n",
    "\n",
    "from sklearn.preprocessing import StandardScaler\n",
    "params = StandardScaler().fit_transform(params)\n",
    "ax = plt.imshow(params)\n",
    "plt.colorbar(ax)"
   ]
  },
  {
   "cell_type": "code",
   "execution_count": 71,
   "metadata": {},
   "outputs": [
    {
     "data": {
      "text/plain": [
       "9697"
      ]
     },
     "execution_count": 71,
     "metadata": {},
     "output_type": "execute_result"
    }
   ],
   "source": [
    "# DIGIT FOUR FOR PART IV\n",
    "b = mnist_least_squares(x, train['label'], 4, least_squares_solver())\n",
    "\n",
    "y = nonlinearLS(0, test['image'], 1)\n",
    "\n",
    "y_predict = classify(y, b)\n",
    "y_predict[y_predict > 0] = 1\n",
    "y_predict[y_predict < 0] = -1\n",
    "\n",
    "y_expect = transform_labels(test['label'], 4)\n",
    "np.sum((y_predict == y_expect))"
   ]
  },
  {
   "cell_type": "code",
   "execution_count": 72,
   "metadata": {},
   "outputs": [
    {
     "data": {
      "text/plain": [
       "<matplotlib.colorbar.Colorbar at 0x1af00d5ee20>"
      ]
     },
     "execution_count": 72,
     "metadata": {},
     "output_type": "execute_result"
    },
    {
     "data": {
      "image/png": "[encoded data removed]",
      "text/plain": [
       "<Figure size 432x288 with 2 Axes>"
      ]
     },
     "metadata": {
      "needs_background": "light"
     },
     "output_type": "display_data"
    }
   ],
   "source": [
    "params = b[:784, 0].reshape(28, 28)\n",
    "\n",
    "from sklearn.preprocessing import StandardScaler\n",
    "params = StandardScaler().fit_transform(params)\n",
    "ax = plt.imshow(params)\n",
    "plt.colorbar(ax)"
   ]
  },
  {
   "cell_type": "code",
   "execution_count": 73,
   "metadata": {},
   "outputs": [
    {
     "data": {
      "text/plain": [
       "9472"
      ]
     },
     "execution_count": 73,
     "metadata": {},
     "output_type": "execute_result"
    }
   ],
   "source": [
    "# DIGIT FIVE FOR PART IV\n",
    "b = mnist_least_squares(x, train['label'], 5, least_squares_solver())\n",
    "\n",
    "y = nonlinearLS(0, test['image'], 1)\n",
    "\n",
    "y_predict = classify(y, b)\n",
    "y_predict[y_predict > 0] = 1\n",
    "y_predict[y_predict < 0] = -1\n",
    "\n",
    "y_expect = transform_labels(test['label'], 5)\n",
    "np.sum((y_predict == y_expect))"
   ]
  },
  {
   "cell_type": "code",
   "execution_count": 74,
   "metadata": {},
   "outputs": [
    {
     "data": {
      "text/plain": [
       "<matplotlib.colorbar.Colorbar at 0x1af00dfc5b0>"
      ]
     },
     "execution_count": 74,
     "metadata": {},
     "output_type": "execute_result"
    },
    {
     "data": {
      "image/png": "[encoded data removed]",
      "text/plain": [
       "<Figure size 432x288 with 2 Axes>"
      ]
     },
     "metadata": {
      "needs_background": "light"
     },
     "output_type": "display_data"
    }
   ],
   "source": [
    "params = b[:784, 0].reshape(28, 28)\n",
    "\n",
    "from sklearn.preprocessing import StandardScaler\n",
    "params = StandardScaler().fit_transform(params)\n",
    "ax = plt.imshow(params)\n",
    "plt.colorbar(ax)"
   ]
  },
  {
   "cell_type": "code",
   "execution_count": 75,
   "metadata": {},
   "outputs": [
    {
     "data": {
      "text/plain": [
       "9777"
      ]
     },
     "execution_count": 75,
     "metadata": {},
     "output_type": "execute_result"
    }
   ],
   "source": [
    "# DIGIT SIX FOR PART IV\n",
    "b = mnist_least_squares(x, train['label'], 6, least_squares_solver())\n",
    "\n",
    "y = nonlinearLS(0, test['image'], 1)\n",
    "\n",
    "y_predict = classify(y, b)\n",
    "y_predict[y_predict > 0] = 1\n",
    "y_predict[y_predict < 0] = -1\n",
    "\n",
    "y_expect = transform_labels(test['label'], 6)\n",
    "np.sum((y_predict == y_expect))"
   ]
  },
  {
   "cell_type": "code",
   "execution_count": 76,
   "metadata": {},
   "outputs": [
    {
     "data": {
      "text/plain": [
       "<matplotlib.colorbar.Colorbar at 0x1af00e869d0>"
      ]
     },
     "execution_count": 76,
     "metadata": {},
     "output_type": "execute_result"
    },
    {
     "data": {
      "image/png": "[encoded data removed]",
      "text/plain": [
       "<Figure size 432x288 with 2 Axes>"
      ]
     },
     "metadata": {
      "needs_background": "light"
     },
     "output_type": "display_data"
    }
   ],
   "source": [
    "params = b[:784, 0].reshape(28, 28)\n",
    "\n",
    "from sklearn.preprocessing import StandardScaler\n",
    "params = StandardScaler().fit_transform(params)\n",
    "ax = plt.imshow(params)\n",
    "plt.colorbar(ax)"
   ]
  },
  {
   "cell_type": "code",
   "execution_count": 77,
   "metadata": {},
   "outputs": [
    {
     "data": {
      "text/plain": [
       "9676"
      ]
     },
     "execution_count": 77,
     "metadata": {},
     "output_type": "execute_result"
    }
   ],
   "source": [
    "# DIGIT SEVEN FOR PART IV\n",
    "b = mnist_least_squares(x, train['label'], 7, least_squares_solver())\n",
    "\n",
    "y = nonlinearLS(0, test['image'], 1)\n",
    "\n",
    "y_predict = classify(y, b)\n",
    "y_predict[y_predict > 0] = 1\n",
    "y_predict[y_predict < 0] = -1\n",
    "\n",
    "y_expect = transform_labels(test['label'], 7)\n",
    "np.sum((y_predict == y_expect))"
   ]
  },
  {
   "cell_type": "code",
   "execution_count": 78,
   "metadata": {},
   "outputs": [
    {
     "data": {
      "text/plain": [
       "<matplotlib.colorbar.Colorbar at 0x1af00bdfd60>"
      ]
     },
     "execution_count": 78,
     "metadata": {},
     "output_type": "execute_result"
    },
    {
     "data": {
      "image/png": "[encoded data removed]",
      "text/plain": [
       "<Figure size 432x288 with 2 Axes>"
      ]
     },
     "metadata": {
      "needs_background": "light"
     },
     "output_type": "display_data"
    }
   ],
   "source": [
    "params = b[:784, 0].reshape(28, 28)\n",
    "\n",
    "from sklearn.preprocessing import StandardScaler\n",
    "params = StandardScaler().fit_transform(params)\n",
    "ax = plt.imshow(params)\n",
    "plt.colorbar(ax)"
   ]
  },
  {
   "cell_type": "code",
   "execution_count": 79,
   "metadata": {},
   "outputs": [
    {
     "data": {
      "text/plain": [
       "9559"
      ]
     },
     "execution_count": 79,
     "metadata": {},
     "output_type": "execute_result"
    }
   ],
   "source": [
    "# DIGIT EIGHT FOR PART IV\n",
    "b = mnist_least_squares(x, train['label'], 8, least_squares_solver())\n",
    "\n",
    "y = nonlinearLS(0, test['image'], 1)\n",
    "\n",
    "y_predict = classify(y, b)\n",
    "y_predict[y_predict > 0] = 1\n",
    "y_predict[y_predict < 0] = -1\n",
    "\n",
    "y_expect = transform_labels(test['label'], 8)\n",
    "np.sum((y_predict == y_expect))"
   ]
  },
  {
   "cell_type": "code",
   "execution_count": 80,
   "metadata": {},
   "outputs": [
    {
     "data": {
      "text/plain": [
       "<matplotlib.colorbar.Colorbar at 0x1af00f75dc0>"
      ]
     },
     "execution_count": 80,
     "metadata": {},
     "output_type": "execute_result"
    },
    {
     "data": {
      "image/png": "[encoded data removed]",
      "text/plain": [
       "<Figure size 432x288 with 2 Axes>"
      ]
     },
     "metadata": {
      "needs_background": "light"
     },
     "output_type": "display_data"
    }
   ],
   "source": [
    "params = b[:784, 0].reshape(28, 28)\n",
    "\n",
    "from sklearn.preprocessing import StandardScaler\n",
    "params = StandardScaler().fit_transform(params)\n",
    "ax = plt.imshow(params)\n",
    "plt.colorbar(ax)"
   ]
  },
  {
   "cell_type": "code",
   "execution_count": 81,
   "metadata": {},
   "outputs": [
    {
     "data": {
      "text/plain": [
       "9559"
      ]
     },
     "execution_count": 81,
     "metadata": {},
     "output_type": "execute_result"
    }
   ],
   "source": [
    "# DIGIT NINE FOR PART IV\n",
    "b = mnist_least_squares(x, train['label'], 9, least_squares_solver())\n",
    "\n",
    "y = nonlinearLS(0, test['image'], 1)\n",
    "\n",
    "y_predict = classify(y, b)\n",
    "y_predict[y_predict > 0] = 1\n",
    "y_predict[y_predict < 0] = -1\n",
    "\n",
    "y_expect = transform_labels(test['label'], 9)\n",
    "np.sum((y_predict == y_expect))"
   ]
  },
  {
   "cell_type": "code",
   "execution_count": 82,
   "metadata": {},
   "outputs": [
    {
     "data": {
      "text/plain": [
       "<matplotlib.colorbar.Colorbar at 0x1af01008af0>"
      ]
     },
     "execution_count": 82,
     "metadata": {},
     "output_type": "execute_result"
    },
    {
     "data": {
      "image/png": "[encoded data removed]",
      "text/plain": [
       "<Figure size 432x288 with 2 Axes>"
      ]
     },
     "metadata": {
      "needs_background": "light"
     },
     "output_type": "display_data"
    }
   ],
   "source": [
    "params = b[:784, 0].reshape(28, 28)\n",
    "\n",
    "from sklearn.preprocessing import StandardScaler\n",
    "params = StandardScaler().fit_transform(params)\n",
    "ax = plt.imshow(params)\n",
    "plt.colorbar(ax)"
   ]
  },
  {
   "cell_type": "markdown",
   "metadata": {},
   "source": [
    "The Results for Part I:\n",
    "0: 98.43 % \n",
    "1: 98.34 %\n",
    "2: 95.85 %\n",
    "3: 96.02 % \n",
    "4: 96.65 %\n",
    "5: 94.64 %\n",
    "6: 97.40 %\n",
    "7: 96.46 %\n",
    "8: 94.90 %\n",
    "9: 84.80 %\n",
    "\n",
    "Results for Part II:\n",
    "0: 98.49 %\n",
    "1: 98.34 %\n",
    "2: 95.82 %\n",
    "3: 96.02 %\n",
    "4: 96.69 %\n",
    "5: 94.65 %\n",
    "6: 97.43 %\n",
    "7: 96.47 %\n",
    "8: 94.89 %\n",
    "9: 94.81 %\n",
    "\n",
    "Results for PART III:\n",
    "0: 98.67 %\n",
    "1: 98.47 %\n",
    "2: 96.25 %\n",
    "3: 96.17 %\n",
    "4: 96.97 %\n",
    "5: 94.72 %\n",
    "6: 97.77 %\n",
    "7: 96.76 %\n",
    "8: 95.59 %\n",
    "9: 95.59 %\n",
    "\n",
    "In comparison to least squares with the regularization parameter and in comparison to the original least squares classifier, this non linear classifier has more significant imporvements for each digit. "
   ]
  }
 ],
 "metadata": {
  "kernelspec": {
   "display_name": "Python 3",
   "language": "python",
   "name": "python3"
  },
  "language_info": {
   "codemirror_mode": {
    "name": "ipython",
    "version": 3
   },
   "file_extension": ".py",
   "mimetype": "text/x-python",
   "name": "python",
   "nbconvert_exporter": "python",
   "pygments_lexer": "ipython3",
   "version": "3.8.2"
  }
 },
 "nbformat": 4,
 "nbformat_minor": 4
}
